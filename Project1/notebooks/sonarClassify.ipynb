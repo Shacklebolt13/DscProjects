{
  "nbformat": 4,
  "nbformat_minor": 0,
  "metadata": {
    "colab": {
      "name": "DscProject1.ipynb",
      "provenance": [],
      "collapsed_sections": []
    },
    "kernelspec": {
      "name": "python3",
      "display_name": "Python 3.9.6 64-bit"
    },
    "language_info": {
      "name": "python",
      "version": "3.9.6"
    },
    "interpreter": {
      "hash": "ac59ebe37160ed0dfa835113d9b8498d9f09ceb179beaac4002f036b9467c963"
    }
  },
  "cells": [
    {
      "source": [
        "# IMPORT / INSTALL ALL REQUIREMENTS"
      ],
      "cell_type": "markdown",
      "metadata": {
        "id": "x5NiLtAPKWzP"
      }
    },
    {
      "cell_type": "code",
      "metadata": {
        "id": "DTDWe22dJYxH"
      },
      "source": [
        "try:\n",
        "    import pandas as pd\n",
        "    import sklearn as sk\n",
        "    import matplotlib as mtp\n",
        "except ImportError:\n",
        "    %pip install pandas sklearn matplotlib\n"
      ],
      "execution_count": 3,
      "outputs": []
    },
    {
      "cell_type": "markdown",
      "metadata": {
        "id": "fqttWvdoKUKt"
      },
      "source": [
        "# READ THE DATASET"
      ]
    },
    {
      "source": [
        "data=pd.read_csv(r\"../Datasets/sonar.csv\")"
      ],
      "cell_type": "code",
      "metadata": {
        "id": "nJlYlov2NOn-"
      },
      "execution_count": 4,
      "outputs": []
    },
    {
      "cell_type": "code",
      "metadata": {
        "id": "uDFf3onYKnci"
      },
      "source": [
        "data.info()"
      ],
      "execution_count": 6,
      "outputs": [
        {
          "output_type": "stream",
          "name": "stdout",
          "text": [
            "<class 'pandas.core.frame.DataFrame'>\nRangeIndex: 207 entries, 0 to 206\nData columns (total 61 columns):\n #   Column  Non-Null Count  Dtype  \n---  ------  --------------  -----  \n 0   0.0200  207 non-null    float64\n 1   0.0371  207 non-null    float64\n 2   0.0428  207 non-null    float64\n 3   0.0207  207 non-null    float64\n 4   0.0954  207 non-null    float64\n 5   0.0986  207 non-null    float64\n 6   0.1539  207 non-null    float64\n 7   0.1601  207 non-null    float64\n 8   0.3109  207 non-null    float64\n 9   0.2111  207 non-null    float64\n 10  0.1609  207 non-null    float64\n 11  0.1582  207 non-null    float64\n 12  0.2238  207 non-null    float64\n 13  0.0645  207 non-null    float64\n 14  0.0660  207 non-null    float64\n 15  0.2273  207 non-null    float64\n 16  0.3100  207 non-null    float64\n 17  0.2999  207 non-null    float64\n 18  0.5078  207 non-null    float64\n 19  0.4797  207 non-null    float64\n 20  0.5783  207 non-null    float64\n 21  0.5071  207 non-null    float64\n 22  0.4328  207 non-null    float64\n 23  0.5550  207 non-null    float64\n 24  0.6711  207 non-null    float64\n 25  0.6415  207 non-null    float64\n 26  0.7104  207 non-null    float64\n 27  0.8080  207 non-null    float64\n 28  0.6791  207 non-null    float64\n 29  0.3857  207 non-null    float64\n 30  0.1307  207 non-null    float64\n 31  0.2604  207 non-null    float64\n 32  0.5121  207 non-null    float64\n 33  0.7547  207 non-null    float64\n 34  0.8537  207 non-null    float64\n 35  0.8507  207 non-null    float64\n 36  0.6692  207 non-null    float64\n 37  0.6097  207 non-null    float64\n 38  0.4943  207 non-null    float64\n 39  0.2744  207 non-null    float64\n 40  0.0510  207 non-null    float64\n 41  0.2834  207 non-null    float64\n 42  0.2825  207 non-null    float64\n 43  0.4256  207 non-null    float64\n 44  0.2641  207 non-null    float64\n 45  0.1386  207 non-null    float64\n 46  0.1051  207 non-null    float64\n 47  0.1343  207 non-null    float64\n 48  0.0383  207 non-null    float64\n 49  0.0324  207 non-null    float64\n 50  0.0232  207 non-null    float64\n 51  0.0027  207 non-null    float64\n 52  0.0065  207 non-null    float64\n 53  0.0159  207 non-null    float64\n 54  0.0072  207 non-null    float64\n 55  0.0167  207 non-null    float64\n 56  0.0180  207 non-null    float64\n 57  0.0084  207 non-null    float64\n 58  0.0090  207 non-null    float64\n 59  0.0032  207 non-null    float64\n 60  R       207 non-null    object \ndtypes: float64(60), object(1)\nmemory usage: 98.8+ KB\n"
          ]
        }
      ]
    },
    {
      "cell_type": "code",
      "execution_count": null,
      "metadata": {},
      "outputs": [],
      "source": []
    }
  ]
}