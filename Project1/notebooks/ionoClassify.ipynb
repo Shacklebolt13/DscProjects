{
  "nbformat": 4,
  "nbformat_minor": 0,
  "metadata": {
    "colab": {
      "name": "DscProject1.ipynb",
      "provenance": [],
      "collapsed_sections": []
    },
    "kernelspec": {
      "name": "python3",
      "display_name": "Python 3.9.6 64-bit"
    },
    "language_info": {
      "name": "python",
      "version": "3.9.6"
    },
    "interpreter": {
      "hash": "ac59ebe37160ed0dfa835113d9b8498d9f09ceb179beaac4002f036b9467c963"
    }
  },
  "cells": [
    {
      "source": [
        "# IMPORT / INSTALL ALL REQUIREMENTS"
      ],
      "cell_type": "markdown",
      "metadata": {
        "id": "x5NiLtAPKWzP"
      }
    },
    {
      "cell_type": "code",
      "metadata": {
        "id": "DTDWe22dJYxH"
      },
      "source": [
        "try:\n",
        "    import pandas\n",
        "    import sklearn\n",
        "    import matplotlib \n",
        "except ImportError:\n",
        "    %pip install pandas sklearn matplotlib\n"
      ],
      "execution_count": 2,
      "outputs": [
        {
          "output_type": "stream",
          "name": "stdout",
          "text": [
            "Note: you may need to restart the kernel to use updated packages.\n",
            "'C:\\Program' is not recognized as an internal or external command,\n",
            "operable program or batch file.\n"
          ]
        }
      ]
    },
    {
      "cell_type": "markdown",
      "metadata": {
        "id": "fqttWvdoKUKt"
      },
      "source": [
        "# READ THE DATASET"
      ]
    },
    {
      "cell_type": "markdown",
      "metadata": {
        "id": "nJlYlov2NOn-"
      },
      "source": [
        "waiting for dataset"
      ]
    },
    {
      "cell_type": "code",
      "metadata": {
        "id": "uDFf3onYKnci"
      },
      "source": [],
      "execution_count": null,
      "outputs": []
    }
  ]
}