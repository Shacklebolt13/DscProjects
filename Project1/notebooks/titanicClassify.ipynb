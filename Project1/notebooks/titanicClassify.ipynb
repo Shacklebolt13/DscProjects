{
  "nbformat": 4,
  "nbformat_minor": 0,
  "metadata": {
    "colab": {
      "name": "DscProject1.ipynb",
      "provenance": [],
      "collapsed_sections": []
    },
    "kernelspec": {
      "name": "python3",
      "display_name": "Python 3.9.6 64-bit"
    },
    "language_info": {
      "name": "python",
      "version": "3.9.6"
    },
    "interpreter": {
      "hash": "ac59ebe37160ed0dfa835113d9b8498d9f09ceb179beaac4002f036b9467c963"
    }
  },
  "cells": [
    {
      "source": [
        "# IMPORT / INSTALL ALL REQUIREMENTS"
      ],
      "cell_type": "markdown",
      "metadata": {
        "id": "x5NiLtAPKWzP"
      }
    },
    {
      "cell_type": "code",
      "metadata": {
        "id": "DTDWe22dJYxH"
      },
      "source": [
        "try:\n",
        "    import pandas as pd\n",
        "    import sklearn as sk\n",
        "    import matplotlib as mtp\n",
        "except ImportError:\n",
        "    %pip install pandas sklearn matplotlib\n"
      ],
      "execution_count": 2,
      "outputs": []
    },
    {
      "cell_type": "markdown",
      "metadata": {
        "id": "fqttWvdoKUKt"
      },
      "source": [
        "# READ THE DATASET"
      ]
    },
    {
      "source": [
        "data=pd.read_csv(r\"../Datasets/ionosphere_data.csv\")\n",
        "data.head()"
      ],
      "cell_type": "code",
      "metadata": {
        "id": "nJlYlov2NOn-"
      },
      "execution_count": 4,
      "outputs": [
        {
          "output_type": "execute_result",
          "data": {
            "text/plain": [
              "   column_a  column_b  column_c  column_d  column_e  column_f  column_g  \\\n",
              "0      True     False   0.99539  -0.05889   0.85243   0.02306   0.83398   \n",
              "1      True     False   1.00000  -0.18829   0.93035  -0.36156  -0.10868   \n",
              "2      True     False   1.00000  -0.03365   1.00000   0.00485   1.00000   \n",
              "3      True     False   1.00000  -0.45161   1.00000   1.00000   0.71216   \n",
              "4      True     False   1.00000  -0.02401   0.94140   0.06531   0.92106   \n",
              "\n",
              "   column_h  column_i  column_j  ...  column_z  column_aa  column_ab  \\\n",
              "0  -0.37708   1.00000   0.03760  ...  -0.51171    0.41078   -0.46168   \n",
              "1  -0.93597   1.00000  -0.04549  ...  -0.26569   -0.20468   -0.18401   \n",
              "2  -0.12062   0.88965   0.01198  ...  -0.40220    0.58984   -0.22145   \n",
              "3  -1.00000   0.00000   0.00000  ...   0.90695    0.51613    1.00000   \n",
              "4  -0.23255   0.77152  -0.16399  ...  -0.65158    0.13290   -0.53206   \n",
              "\n",
              "   column_ac  column_ad  column_ae  column_af  column_ag  column_ah  column_ai  \n",
              "0    0.21266   -0.34090    0.42267   -0.54487    0.18641   -0.45300          g  \n",
              "1   -0.19040   -0.11593   -0.16626   -0.06288   -0.13738   -0.02447          b  \n",
              "2    0.43100   -0.17365    0.60436   -0.24180    0.56045   -0.38238          g  \n",
              "3    1.00000   -0.20099    0.25682    1.00000   -0.32382    1.00000          b  \n",
              "4    0.02431   -0.62197   -0.05707   -0.59573   -0.04608   -0.65697          g  \n",
              "\n",
              "[5 rows x 35 columns]"
            ],
            "text/html": "<div>\n<style scoped>\n    .dataframe tbody tr th:only-of-type {\n        vertical-align: middle;\n    }\n\n    .dataframe tbody tr th {\n        vertical-align: top;\n    }\n\n    .dataframe thead th {\n        text-align: right;\n    }\n</style>\n<table border=\"1\" class=\"dataframe\">\n  <thead>\n    <tr style=\"text-align: right;\">\n      <th></th>\n      <th>column_a</th>\n      <th>column_b</th>\n      <th>column_c</th>\n      <th>column_d</th>\n      <th>column_e</th>\n      <th>column_f</th>\n      <th>column_g</th>\n      <th>column_h</th>\n      <th>column_i</th>\n      <th>column_j</th>\n      <th>...</th>\n      <th>column_z</th>\n      <th>column_aa</th>\n      <th>column_ab</th>\n      <th>column_ac</th>\n      <th>column_ad</th>\n      <th>column_ae</th>\n      <th>column_af</th>\n      <th>column_ag</th>\n      <th>column_ah</th>\n      <th>column_ai</th>\n    </tr>\n  </thead>\n  <tbody>\n    <tr>\n      <th>0</th>\n      <td>True</td>\n      <td>False</td>\n      <td>0.99539</td>\n      <td>-0.05889</td>\n      <td>0.85243</td>\n      <td>0.02306</td>\n      <td>0.83398</td>\n      <td>-0.37708</td>\n      <td>1.00000</td>\n      <td>0.03760</td>\n      <td>...</td>\n      <td>-0.51171</td>\n      <td>0.41078</td>\n      <td>-0.46168</td>\n      <td>0.21266</td>\n      <td>-0.34090</td>\n      <td>0.42267</td>\n      <td>-0.54487</td>\n      <td>0.18641</td>\n      <td>-0.45300</td>\n      <td>g</td>\n    </tr>\n    <tr>\n      <th>1</th>\n      <td>True</td>\n      <td>False</td>\n      <td>1.00000</td>\n      <td>-0.18829</td>\n      <td>0.93035</td>\n      <td>-0.36156</td>\n      <td>-0.10868</td>\n      <td>-0.93597</td>\n      <td>1.00000</td>\n      <td>-0.04549</td>\n      <td>...</td>\n      <td>-0.26569</td>\n      <td>-0.20468</td>\n      <td>-0.18401</td>\n      <td>-0.19040</td>\n      <td>-0.11593</td>\n      <td>-0.16626</td>\n      <td>-0.06288</td>\n      <td>-0.13738</td>\n      <td>-0.02447</td>\n      <td>b</td>\n    </tr>\n    <tr>\n      <th>2</th>\n      <td>True</td>\n      <td>False</td>\n      <td>1.00000</td>\n      <td>-0.03365</td>\n      <td>1.00000</td>\n      <td>0.00485</td>\n      <td>1.00000</td>\n      <td>-0.12062</td>\n      <td>0.88965</td>\n      <td>0.01198</td>\n      <td>...</td>\n      <td>-0.40220</td>\n      <td>0.58984</td>\n      <td>-0.22145</td>\n      <td>0.43100</td>\n      <td>-0.17365</td>\n      <td>0.60436</td>\n      <td>-0.24180</td>\n      <td>0.56045</td>\n      <td>-0.38238</td>\n      <td>g</td>\n    </tr>\n    <tr>\n      <th>3</th>\n      <td>True</td>\n      <td>False</td>\n      <td>1.00000</td>\n      <td>-0.45161</td>\n      <td>1.00000</td>\n      <td>1.00000</td>\n      <td>0.71216</td>\n      <td>-1.00000</td>\n      <td>0.00000</td>\n      <td>0.00000</td>\n      <td>...</td>\n      <td>0.90695</td>\n      <td>0.51613</td>\n      <td>1.00000</td>\n      <td>1.00000</td>\n      <td>-0.20099</td>\n      <td>0.25682</td>\n      <td>1.00000</td>\n      <td>-0.32382</td>\n      <td>1.00000</td>\n      <td>b</td>\n    </tr>\n    <tr>\n      <th>4</th>\n      <td>True</td>\n      <td>False</td>\n      <td>1.00000</td>\n      <td>-0.02401</td>\n      <td>0.94140</td>\n      <td>0.06531</td>\n      <td>0.92106</td>\n      <td>-0.23255</td>\n      <td>0.77152</td>\n      <td>-0.16399</td>\n      <td>...</td>\n      <td>-0.65158</td>\n      <td>0.13290</td>\n      <td>-0.53206</td>\n      <td>0.02431</td>\n      <td>-0.62197</td>\n      <td>-0.05707</td>\n      <td>-0.59573</td>\n      <td>-0.04608</td>\n      <td>-0.65697</td>\n      <td>g</td>\n    </tr>\n  </tbody>\n</table>\n<p>5 rows × 35 columns</p>\n</div>"
          },
          "metadata": {},
          "execution_count": 4
        }
      ]
    },
    {
      "cell_type": "code",
      "metadata": {
        "id": "uDFf3onYKnci"
      },
      "source": [],
      "execution_count": null,
      "outputs": []
    }
  ]
}