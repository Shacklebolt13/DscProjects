{
  "nbformat": 4,
  "nbformat_minor": 0,
  "metadata": {
    "colab": {
      "name": "DscProject1.ipynb",
      "provenance": [],
      "collapsed_sections": []
    },
    "kernelspec": {
      "name": "python3",
      "display_name": "Python 3.9.6 64-bit"
    },
    "language_info": {
      "name": "python",
      "version": "3.9.6"
    },
    "interpreter": {
      "hash": "ac59ebe37160ed0dfa835113d9b8498d9f09ceb179beaac4002f036b9467c963"
    }
  },
  "cells": [
    {
      "source": [
        "# IMPORT / INSTALL ALL REQUIREMENTS"
      ],
      "cell_type": "markdown",
      "metadata": {
        "id": "x5NiLtAPKWzP"
      }
    },
    {
      "cell_type": "code",
      "metadata": {
        "id": "DTDWe22dJYxH"
      },
      "source": [
        "try:\n",
        "    import pandas as pd\n",
        "    import sklearn as sk\n",
        "    import matplotlib as mtp\n",
        "except ImportError:\n",
        "    %pip install pandas sklearn matplotlib\n"
      ],
      "execution_count": 3,
      "outputs": []
    },
    {
      "cell_type": "markdown",
      "metadata": {
        "id": "fqttWvdoKUKt"
      },
      "source": [
        "# READ THE DATASET"
      ]
    },
    {
      "source": [
        "data=pd.read_csv(r\"../Datasets/loan.csv\",index_col=\"ID\")\n",
        "#https://www.kaggle.com/teertha/personal-loan-modeling"
      ],
      "cell_type": "code",
      "metadata": {
        "id": "nJlYlov2NOn-"
      },
      "execution_count": 14,
      "outputs": []
    },
    {
      "cell_type": "code",
      "metadata": {
        "id": "uDFf3onYKnci"
      },
      "source": [
        "data.head()"
      ],
      "execution_count": 17,
      "outputs": [
        {
          "output_type": "execute_result",
          "data": {
            "text/plain": [
              "    Age  Experience  Income  ZIP Code  Family  CCAvg  Education  Mortgage  \\\n",
              "ID                                                                          \n",
              "1    25           1      49     91107       4    1.6          1         0   \n",
              "2    45          19      34     90089       3    1.5          1         0   \n",
              "3    39          15      11     94720       1    1.0          1         0   \n",
              "4    35           9     100     94112       1    2.7          2         0   \n",
              "5    35           8      45     91330       4    1.0          2         0   \n",
              "\n",
              "    Personal Loan  Securities Account  CD Account  Online  CreditCard  \n",
              "ID                                                                     \n",
              "1               0                   1           0       0           0  \n",
              "2               0                   1           0       0           0  \n",
              "3               0                   0           0       0           0  \n",
              "4               0                   0           0       0           0  \n",
              "5               0                   0           0       0           1  "
            ],
            "text/html": "<div>\n<style scoped>\n    .dataframe tbody tr th:only-of-type {\n        vertical-align: middle;\n    }\n\n    .dataframe tbody tr th {\n        vertical-align: top;\n    }\n\n    .dataframe thead th {\n        text-align: right;\n    }\n</style>\n<table border=\"1\" class=\"dataframe\">\n  <thead>\n    <tr style=\"text-align: right;\">\n      <th></th>\n      <th>Age</th>\n      <th>Experience</th>\n      <th>Income</th>\n      <th>ZIP Code</th>\n      <th>Family</th>\n      <th>CCAvg</th>\n      <th>Education</th>\n      <th>Mortgage</th>\n      <th>Personal Loan</th>\n      <th>Securities Account</th>\n      <th>CD Account</th>\n      <th>Online</th>\n      <th>CreditCard</th>\n    </tr>\n    <tr>\n      <th>ID</th>\n      <th></th>\n      <th></th>\n      <th></th>\n      <th></th>\n      <th></th>\n      <th></th>\n      <th></th>\n      <th></th>\n      <th></th>\n      <th></th>\n      <th></th>\n      <th></th>\n      <th></th>\n    </tr>\n  </thead>\n  <tbody>\n    <tr>\n      <th>1</th>\n      <td>25</td>\n      <td>1</td>\n      <td>49</td>\n      <td>91107</td>\n      <td>4</td>\n      <td>1.6</td>\n      <td>1</td>\n      <td>0</td>\n      <td>0</td>\n      <td>1</td>\n      <td>0</td>\n      <td>0</td>\n      <td>0</td>\n    </tr>\n    <tr>\n      <th>2</th>\n      <td>45</td>\n      <td>19</td>\n      <td>34</td>\n      <td>90089</td>\n      <td>3</td>\n      <td>1.5</td>\n      <td>1</td>\n      <td>0</td>\n      <td>0</td>\n      <td>1</td>\n      <td>0</td>\n      <td>0</td>\n      <td>0</td>\n    </tr>\n    <tr>\n      <th>3</th>\n      <td>39</td>\n      <td>15</td>\n      <td>11</td>\n      <td>94720</td>\n      <td>1</td>\n      <td>1.0</td>\n      <td>1</td>\n      <td>0</td>\n      <td>0</td>\n      <td>0</td>\n      <td>0</td>\n      <td>0</td>\n      <td>0</td>\n    </tr>\n    <tr>\n      <th>4</th>\n      <td>35</td>\n      <td>9</td>\n      <td>100</td>\n      <td>94112</td>\n      <td>1</td>\n      <td>2.7</td>\n      <td>2</td>\n      <td>0</td>\n      <td>0</td>\n      <td>0</td>\n      <td>0</td>\n      <td>0</td>\n      <td>0</td>\n    </tr>\n    <tr>\n      <th>5</th>\n      <td>35</td>\n      <td>8</td>\n      <td>45</td>\n      <td>91330</td>\n      <td>4</td>\n      <td>1.0</td>\n      <td>2</td>\n      <td>0</td>\n      <td>0</td>\n      <td>0</td>\n      <td>0</td>\n      <td>0</td>\n      <td>1</td>\n    </tr>\n  </tbody>\n</table>\n</div>"
          },
          "metadata": {},
          "execution_count": 17
        }
      ]
    },
    {
      "cell_type": "code",
      "execution_count": null,
      "metadata": {},
      "outputs": [],
      "source": []
    }
  ]
}