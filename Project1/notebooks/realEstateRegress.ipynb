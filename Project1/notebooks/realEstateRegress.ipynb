{
  "nbformat": 4,
  "nbformat_minor": 0,
  "metadata": {
    "colab": {
      "name": "DscProject1.ipynb",
      "provenance": [],
      "collapsed_sections": []
    },
    "kernelspec": {
      "name": "python3",
      "display_name": "Python 3.9.6 64-bit"
    },
    "language_info": {
      "name": "python",
      "version": "3.9.6"
    },
    "interpreter": {
      "hash": "ac59ebe37160ed0dfa835113d9b8498d9f09ceb179beaac4002f036b9467c963"
    }
  },
  "cells": [
    {
      "source": [
        "# IMPORT / INSTALL ALL REQUIREMENTS"
      ],
      "cell_type": "markdown",
      "metadata": {
        "id": "x5NiLtAPKWzP"
      }
    },
    {
      "cell_type": "code",
      "metadata": {
        "id": "DTDWe22dJYxH"
      },
      "source": [
        "try:\n",
        "    import pandas as pd\n",
        "    import sklearn as sk\n",
        "    import matplotlib as mtp\n",
        "except ImportError:\n",
        "    %pip install pandas sklearn matplotlib\n"
      ],
      "execution_count": 2,
      "outputs": []
    },
    {
      "cell_type": "markdown",
      "metadata": {
        "id": "fqttWvdoKUKt"
      },
      "source": [
        "# READ THE DATASET"
      ]
    },
    {
      "source": [
        "data=pd.read_csv(r\"../Datasets/realEstate.csv\")"
      ],
      "cell_type": "code",
      "metadata": {
        "id": "nJlYlov2NOn-"
      },
      "execution_count": 3,
      "outputs": []
    },
    {
      "cell_type": "code",
      "metadata": {
        "id": "uDFf3onYKnci"
      },
      "source": [
        "data.info()"
      ],
      "execution_count": 4,
      "outputs": [
        {
          "output_type": "stream",
          "name": "stdout",
          "text": [
            "<class 'pandas.core.frame.DataFrame'>\nRangeIndex: 3539 entries, 0 to 3538\nData columns (total 18 columns):\n #   Column            Non-Null Count  Dtype  \n---  ------            --------------  -----  \n 0   rental_id         3539 non-null   int64  \n 1   rent              3539 non-null   int64  \n 2   bedrooms          3539 non-null   float64\n 3   bathrooms         3539 non-null   int64  \n 4   size_sqft         3539 non-null   int64  \n 5   min_to_subway     3539 non-null   int64  \n 6   floor             3539 non-null   float64\n 7   building_age_yrs  3539 non-null   int64  \n 8   no_fee            3539 non-null   int64  \n 9   has_roofdeck      3539 non-null   int64  \n 10  has_washer_dryer  3539 non-null   int64  \n 11  has_doorman       3539 non-null   int64  \n 12  has_elevator      3539 non-null   int64  \n 13  has_dishwasher    3539 non-null   int64  \n 14  has_patio         3539 non-null   int64  \n 15  has_gym           3539 non-null   int64  \n 16  neighborhood      3539 non-null   object \n 17  borough           3539 non-null   object \ndtypes: float64(2), int64(14), object(2)\nmemory usage: 497.8+ KB\n"
          ]
        }
      ]
    },
    {
      "cell_type": "code",
      "execution_count": null,
      "metadata": {},
      "outputs": [],
      "source": []
    }
  ]
}